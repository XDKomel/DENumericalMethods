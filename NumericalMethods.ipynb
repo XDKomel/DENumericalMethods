{
  "nbformat": 4,
  "nbformat_minor": 0,
  "metadata": {
    "colab": {
      "name": "Untitled1.ipynb",
      "provenance": [],
      "authorship_tag": "ABX9TyP/pip9gg0FfbjIKkyn086N",
      "include_colab_link": true
    },
    "kernelspec": {
      "name": "python3",
      "display_name": "Python 3"
    },
    "language_info": {
      "name": "python"
    }
  },
  "cells": [
    {
      "cell_type": "markdown",
      "metadata": {
        "id": "view-in-github",
        "colab_type": "text"
      },
      "source": [
        "<a href=\"https://colab.research.google.com/github/XDKomel/DENumericalMethods/blob/main/NumericalMethods.ipynb\" target=\"_parent\"><img src=\"https://colab.research.google.com/assets/colab-badge.svg\" alt=\"Open In Colab\"/></a>"
      ]
    },
    {
      "cell_type": "code",
      "metadata": {
        "colab": {
          "base_uri": "https://localhost:8080/"
        },
        "id": "B_3gTsfKU6ER",
        "outputId": "53a3998c-0e62-4972-8b45-ac625018db3d"
      },
      "source": [
        "!git branch main"
      ],
      "execution_count": null,
      "outputs": [
        {
          "output_type": "stream",
          "name": "stdout",
          "text": [
            "fatal: Not a valid object name: 'master'.\n"
          ]
        }
      ]
    },
    {
      "cell_type": "code",
      "metadata": {
        "id": "usz978BRpb6K"
      },
      "source": [
        "from decimal import *"
      ],
      "execution_count": null,
      "outputs": []
    },
    {
      "cell_type": "code",
      "metadata": {
        "id": "Mz-jVqCydhkX"
      },
      "source": [
        "def y_prime(x, y):\n",
        "  return (y*y + x*y - x*x)/(x*x)\n",
        "\n",
        "def y(x):\n",
        "  return (x * (1 + (x*x)/3))/(1 - (x*x)/3)"
      ],
      "execution_count": null,
      "outputs": []
    },
    {
      "cell_type": "code",
      "metadata": {
        "id": "L_inZp3GkCla"
      },
      "source": [
        "class NumericalMethod:\n",
        "  def __init__(self, initial_x, initial_y, h, compute):\n",
        "    self.h = h\n",
        "    self.stored = {}\n",
        "    self.initial_x = initial_x\n",
        "    self.stored[initial_x] = initial_y\n",
        "    self.compute = compute\n",
        "  "
      ],
      "execution_count": null,
      "outputs": []
    },
    {
      "cell_type": "code",
      "metadata": {
        "colab": {
          "base_uri": "https://localhost:8080/"
        },
        "id": "WK6Kxh16kgJF",
        "outputId": "cf82286a-5bf8-40d6-e7da-8939ef275c95"
      },
      "source": [
        "def compute(self, x):\n",
        "  if x in self.stored or x < self.initial_x:\n",
        "    return self.stored[x]\n",
        "  prev_x = x - self.h\n",
        "  prev_y = self.compute(self, prev_x)\n",
        "  self.stored[x] = prev_y + self.h * y_prime(prev_x, prev_y)\n",
        "  return self.stored[x]\n",
        "\n",
        "n = NumericalMethod(Decimal(1), Decimal(2), Decimal(0.1), compute)\n",
        "n.compute(n, Decimal(1.1))"
      ],
      "execution_count": null,
      "outputs": [
        {
          "output_type": "execute_result",
          "data": {
            "text/plain": [
              "Decimal('2.50000')"
            ]
          },
          "metadata": {},
          "execution_count": 20
        }
      ]
    },
    {
      "cell_type": "code",
      "metadata": {
        "id": "x3jbcWOofsCD"
      },
      "source": [
        "class Euler:\n",
        "  def __init__(self, initial_x, initial_y, h):\n",
        "    self.h = h\n",
        "    self.stored = {}\n",
        "    self.initial_x = initial_x\n",
        "    self.stored[initial_x] = initial_y\n",
        "  \n",
        "  def compute(self, x):\n",
        "    if not x in self.stored and x >= self.initial_x:\n",
        "      prev_x = x - self.h\n",
        "      prev_y = self.compute(prev_x)\n",
        "      self.stored[x] = prev_y + self.h * y_prime(prev_x, prev_y)\n",
        "    return self.stored[x]"
      ],
      "execution_count": null,
      "outputs": []
    },
    {
      "cell_type": "code",
      "metadata": {
        "id": "gb069P3LeUxj",
        "colab": {
          "base_uri": "https://localhost:8080/"
        },
        "outputId": "94be09e2-c367-4f2b-c542-a13ae168ac51"
      },
      "source": [
        "getcontext().prec = 6\n",
        "euler = Euler(Decimal(1.0), Decimal(2.0), Decimal(0.1))\n",
        "print(euler.compute(Decimal(1.5)))"
      ],
      "execution_count": null,
      "outputs": [
        {
          "output_type": "stream",
          "name": "stdout",
          "text": [
            "6.75865\n"
          ]
        }
      ]
    }
  ]
}